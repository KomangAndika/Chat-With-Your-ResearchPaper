{
 "cells": [
  {
   "cell_type": "code",
   "execution_count": 1,
   "metadata": {},
   "outputs": [
    {
     "name": "stdout",
     "output_type": "stream",
     "text": [
      "Name: megaparse\n",
      "Version: 0.0.53\n",
      "Summary: \n",
      "Home-page: \n",
      "Author: \n",
      "Author-email: Stan Girard <stan@quivr.app>, Chloé Daems <chloe@quivr.app>, Amine Dirhoussi <amine@quivr.app>, Jacopo Chevallard <jacopo@quivr.app>\n",
      "License: \n",
      "Location: /Users/komangandikawirasantosa/opt/anaconda3/envs/parser_env/lib/python3.11/site-packages\n",
      "Requires: backoff, langchain, langchain-anthropic, langchain-community, langchain-core, langchain-openai, llama-parse, megaparse-sdk, numpy, onnxtr, pdfplumber, playwright, psutil, pycryptodome, pydantic-settings, pypdf, pypdfium2, python-magic, unstructured\n",
      "Required-by: \n",
      "Note: you may need to restart the kernel to use updated packages.\n"
     ]
    }
   ],
   "source": [
    "pip show megaparse"
   ]
  },
  {
   "cell_type": "markdown",
   "metadata": {},
   "source": [
    "## MegaParse"
   ]
  },
  {
   "cell_type": "code",
   "execution_count": 2,
   "metadata": {},
   "outputs": [
    {
     "name": "stdout",
     "output_type": "stream",
     "text": [
      " ········\n"
     ]
    }
   ],
   "source": [
    "import getpass\n",
    "import os\n",
    "\n",
    "os.environ[\"OPENAI_API_KEY\"] = getpass.getpass()"
   ]
  },
  {
   "cell_type": "code",
   "execution_count": null,
   "metadata": {
    "scrolled": true
   },
   "outputs": [],
   "source": [
    "from megaparse.parser.megaparse_vision import MegaParseVision\n",
    "\n",
    "model = ChatOpenAI(model=\"gpt-4o-mini\")\n",
    "parser = MegaParseVision(model=model)\n",
    "response = parser.convert(\"/Users/komangandikawirasantosa/Chat-With-Your-ResearchPaper/PDF/table.pdf\")\n",
    "#print(response)"
   ]
  },
  {
   "cell_type": "code",
   "execution_count": 7,
   "metadata": {},
   "outputs": [
    {
     "name": "stdout",
     "output_type": "stream",
     "text": [
      "Response has been saved to /Users/komangandikawirasantosa/Chat-With-Your-ResearchPaper/Parse_Result/table_output.txt\n"
     ]
    }
   ],
   "source": [
    "# Specify the file path where you want to save the response\n",
    "output_file = \"/Users/komangandikawirasantosa/Chat-With-Your-ResearchPaper/Parse_Result/table_output.txt\"\n",
    "\n",
    "# Convert the response to a string if it's a Document object\n",
    "# Assuming the content you need is in response.page_content\n",
    "if hasattr(response, \"page_content\"):\n",
    "    content = response.page_content\n",
    "else:\n",
    "    content = str(response)  # Fallback to converting the entire object to string\n",
    "\n",
    "# Save the extracted content to a text file\n",
    "with open(output_file, \"w\", encoding=\"utf-8\") as file:\n",
    "    file.write(content)\n",
    "\n",
    "print(f\"Response has been saved to {output_file}\")\n"
   ]
  },
  {
   "cell_type": "code",
   "execution_count": 8,
   "metadata": {},
   "outputs": [],
   "source": [
    "# Full ISGS Regulation Parsed\n",
    "from megaparse.parser.megaparse_vision import MegaParseVision\n",
    "\n",
    "model = ChatOpenAI(model=\"gpt-4o-mini\")\n",
    "parser = MegaParseVision(model=model)\n",
    "response = parser.convert(\"/Users/komangandikawirasantosa/Chat-With-Your-ResearchPaper/PDF/ISGS_Process_and_Regulation-v1.0.pdf\")\n",
    "#print(response)"
   ]
  },
  {
   "cell_type": "code",
   "execution_count": 9,
   "metadata": {},
   "outputs": [
    {
     "name": "stdout",
     "output_type": "stream",
     "text": [
      "Response has been saved to /Users/komangandikawirasantosa/Chat-With-Your-ResearchPaper/Parse_Result/regulation.txt\n"
     ]
    }
   ],
   "source": [
    "# Specify the file path where you want to save the response\n",
    "output_file = \"/Users/komangandikawirasantosa/Chat-With-Your-ResearchPaper/Parse_Result/regulation.txt\"\n",
    "\n",
    "# Convert the response to a string if it's a Document object\n",
    "# Assuming the content you need is in response.page_content\n",
    "if hasattr(response, \"page_content\"):\n",
    "    content = response.page_content\n",
    "else:\n",
    "    content = str(response)  # Fallback to converting the entire object to string\n",
    "\n",
    "# Save the extracted content to a text file\n",
    "with open(output_file, \"w\", encoding=\"utf-8\") as file:\n",
    "    file.write(content)\n",
    "\n",
    "print(f\"Response has been saved to {output_file}\")"
   ]
  },
  {
   "cell_type": "markdown",
   "metadata": {},
   "source": [
    "## PdfPlumber"
   ]
  },
  {
   "cell_type": "code",
   "execution_count": null,
   "metadata": {},
   "outputs": [],
   "source": []
  }
 ],
 "metadata": {
  "kernelspec": {
   "display_name": "Python 3 (ipykernel)",
   "language": "python",
   "name": "python3"
  },
  "language_info": {
   "codemirror_mode": {
    "name": "ipython",
    "version": 3
   },
   "file_extension": ".py",
   "mimetype": "text/x-python",
   "name": "python",
   "nbconvert_exporter": "python",
   "pygments_lexer": "ipython3",
   "version": "3.11.7"
  }
 },
 "nbformat": 4,
 "nbformat_minor": 4
}
